{
 "cells": [
  {
   "cell_type": "markdown",
   "id": "e23c5734-fc2e-4d1f-8a5f-c586314c3eba",
   "metadata": {},
   "source": [
    "# This is our first program"
   ]
  },
  {
   "cell_type": "code",
   "execution_count": 2,
   "id": "6a07cc81-a1f4-46d5-9a53-22bc8fb1ff29",
   "metadata": {},
   "outputs": [
    {
     "name": "stdout",
     "output_type": "stream",
     "text": [
      "Hello\n",
      "hi\n"
     ]
    }
   ],
   "source": [
    "print(\"Hello\")\n",
    "print(\"hi\")\n"
   ]
  },
  {
   "cell_type": "code",
   "execution_count": 4,
   "id": "64b9f6ad-ee78-4d2b-aa5d-6169cd8fee64",
   "metadata": {},
   "outputs": [],
   "source": [
    "import pandas as pd"
   ]
  },
  {
   "cell_type": "code",
   "execution_count": null,
   "id": "2c266b6d-38ad-4f84-8aae-a0ef4b9b99f9",
   "metadata": {},
   "outputs": [],
   "source": []
  }
 ],
 "metadata": {
  "kernelspec": {
   "display_name": "Python 3 (ipykernel)",
   "language": "python",
   "name": "python3"
  },
  "language_info": {
   "codemirror_mode": {
    "name": "ipython",
    "version": 3
   },
   "file_extension": ".py",
   "mimetype": "text/x-python",
   "name": "python",
   "nbconvert_exporter": "python",
   "pygments_lexer": "ipython3",
   "version": "3.12.4"
  }
 },
 "nbformat": 4,
 "nbformat_minor": 5
}
